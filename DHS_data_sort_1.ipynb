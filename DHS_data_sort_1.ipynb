{
 "cells": [
  {
   "cell_type": "code",
   "execution_count": 4,
   "metadata": {},
   "outputs": [],
   "source": [
    "import sys"
   ]
  },
  {
   "cell_type": "code",
   "execution_count": 6,
   "metadata": {},
   "outputs": [
    {
     "name": "stdout",
     "output_type": "stream",
     "text": [
      "Collecting pandas\n",
      "  Using cached https://files.pythonhosted.org/packages/80/d9/50bff755debc7492fd4ee0f312250a5c4b07b9b50af3d7af4047ecd4257e/pandas-1.3.1-cp37-cp37m-macosx_10_9_x86_64.whl\n",
      "Requirement already satisfied: pytz>=2017.3 in /usr/local/lib/python3.7/site-packages (from pandas) (2019.3)\n",
      "Requirement already satisfied: python-dateutil>=2.7.3 in /usr/local/lib/python3.7/site-packages (from pandas) (2.8.1)\n",
      "Collecting numpy>=1.17.3\n",
      "  Using cached https://files.pythonhosted.org/packages/49/d2/057683bbe4f8cccbd74f9b98dee5b1c5b94c06c115790d4bb50ec31aab77/numpy-1.21.1-cp37-cp37m-macosx_10_9_x86_64.whl\n",
      "Requirement already satisfied: six>=1.5 in /usr/local/lib/python3.7/site-packages (from python-dateutil>=2.7.3->pandas) (1.13.0)\n",
      "Installing collected packages: numpy, pandas\n",
      "Successfully installed numpy-1.21.1 pandas-1.3.1\n"
     ]
    }
   ],
   "source": [
    "!{sys.executable} -m pip install pandas"
   ]
  },
  {
   "cell_type": "code",
   "execution_count": 7,
   "metadata": {},
   "outputs": [],
   "source": [
    "import pandas as pd"
   ]
  },
  {
   "cell_type": "code",
   "execution_count": 11,
   "metadata": {},
   "outputs": [
    {
     "name": "stdout",
     "output_type": "stream",
     "text": [
      "2021-41339 PASD #21-337.xlsx  \u001b[34minclude\u001b[m\u001b[m/\r\n",
      "Untitled.ipynb                \u001b[34mlib\u001b[m\u001b[m/\r\n",
      "\u001b[34mbin\u001b[m\u001b[m/                          \u001b[34mshare\u001b[m\u001b[m/\r\n",
      "\u001b[34metc\u001b[m\u001b[m/\r\n"
     ]
    }
   ],
   "source": [
    "ls"
   ]
  },
  {
   "cell_type": "code",
   "execution_count": 21,
   "metadata": {},
   "outputs": [],
   "source": [
    "xls_file = pd.ExcelFile('isabela_xl_trimmed.xlsx')"
   ]
  },
  {
   "cell_type": "code",
   "execution_count": 22,
   "metadata": {},
   "outputs": [
    {
     "data": {
      "text/plain": [
       "<pandas.io.excel._base.ExcelFile at 0x11b7d1e50>"
      ]
     },
     "execution_count": 22,
     "metadata": {},
     "output_type": "execute_result"
    }
   ],
   "source": [
    "xls_file"
   ]
  },
  {
   "cell_type": "code",
   "execution_count": 23,
   "metadata": {},
   "outputs": [
    {
     "data": {
      "text/plain": [
       "['21-337', 'Sheet1']"
      ]
     },
     "execution_count": 23,
     "metadata": {},
     "output_type": "execute_result"
    }
   ],
   "source": [
    "xls_file.sheet_names"
   ]
  },
  {
   "cell_type": "code",
   "execution_count": 24,
   "metadata": {},
   "outputs": [],
   "source": [
    "df = xls_file.parse('21-337')"
   ]
  },
  {
   "cell_type": "code",
   "execution_count": 25,
   "metadata": {},
   "outputs": [
    {
     "data": {
      "text/html": [
       "<div>\n",
       "<style scoped>\n",
       "    .dataframe tbody tr th:only-of-type {\n",
       "        vertical-align: middle;\n",
       "    }\n",
       "\n",
       "    .dataframe tbody tr th {\n",
       "        vertical-align: top;\n",
       "    }\n",
       "\n",
       "    .dataframe thead th {\n",
       "        text-align: right;\n",
       "    }\n",
       "</style>\n",
       "<table border=\"1\" class=\"dataframe\">\n",
       "  <thead>\n",
       "    <tr style=\"text-align: right;\">\n",
       "      <th></th>\n",
       "      <th>idncase</th>\n",
       "      <th>idnProceeding</th>\n",
       "      <th>NTA Date</th>\n",
       "      <th>Date Appeal Filed</th>\n",
       "      <th>Appeal Filed By</th>\n",
       "      <th>Case Type</th>\n",
       "      <th>Custody</th>\n",
       "      <th>Gender</th>\n",
       "      <th>Base City</th>\n",
       "      <th>BIA Decision*</th>\n",
       "      <th>BIA Decision Date</th>\n",
       "    </tr>\n",
       "  </thead>\n",
       "  <tbody>\n",
       "    <tr>\n",
       "      <th>0</th>\n",
       "      <td>6817752</td>\n",
       "      <td>5685760.0</td>\n",
       "      <td>2011-08-02</td>\n",
       "      <td>2015-10-05</td>\n",
       "      <td>Alien</td>\n",
       "      <td>RMV</td>\n",
       "      <td>R</td>\n",
       "      <td>M</td>\n",
       "      <td>KANSAS CITY, MISSOURI</td>\n",
       "      <td>Background Check Remand</td>\n",
       "      <td>2016-06-15</td>\n",
       "    </tr>\n",
       "    <tr>\n",
       "      <th>1</th>\n",
       "      <td>6807379</td>\n",
       "      <td>6078121.0</td>\n",
       "      <td>2011-06-08</td>\n",
       "      <td>2015-10-06</td>\n",
       "      <td>Alien</td>\n",
       "      <td>RMV</td>\n",
       "      <td>R</td>\n",
       "      <td>M</td>\n",
       "      <td>ARLINGTON, VIRGINIA</td>\n",
       "      <td>Dismiss Appeal/Affirm IJ's Decision</td>\n",
       "      <td>2016-11-23</td>\n",
       "    </tr>\n",
       "    <tr>\n",
       "      <th>2</th>\n",
       "      <td>7473465</td>\n",
       "      <td>6891486.0</td>\n",
       "      <td>2014-04-16</td>\n",
       "      <td>2015-10-08</td>\n",
       "      <td>DHS</td>\n",
       "      <td>RMV</td>\n",
       "      <td>D</td>\n",
       "      <td>M</td>\n",
       "      <td>LOS ANGELES, CALIFORNIA (NORTH LOS ANGELES STR...</td>\n",
       "      <td>Remand</td>\n",
       "      <td>2016-10-25</td>\n",
       "    </tr>\n",
       "    <tr>\n",
       "      <th>3</th>\n",
       "      <td>7642251</td>\n",
       "      <td>6819325.0</td>\n",
       "      <td>2015-03-03</td>\n",
       "      <td>2015-10-08</td>\n",
       "      <td>DHS</td>\n",
       "      <td>RMV</td>\n",
       "      <td>D</td>\n",
       "      <td>M</td>\n",
       "      <td>KANSAS CITY, MISSOURI</td>\n",
       "      <td>Sustain</td>\n",
       "      <td>2017-01-27</td>\n",
       "    </tr>\n",
       "    <tr>\n",
       "      <th>4</th>\n",
       "      <td>7721331</td>\n",
       "      <td>6937166.0</td>\n",
       "      <td>2015-07-15</td>\n",
       "      <td>2015-10-09</td>\n",
       "      <td>DHS</td>\n",
       "      <td>WHO</td>\n",
       "      <td>D</td>\n",
       "      <td>M</td>\n",
       "      <td>LOS FRESNOS (PORT ISABEL SPC), TEXAS</td>\n",
       "      <td>Remand</td>\n",
       "      <td>2017-02-06</td>\n",
       "    </tr>\n",
       "    <tr>\n",
       "      <th>...</th>\n",
       "      <td>...</td>\n",
       "      <td>...</td>\n",
       "      <td>...</td>\n",
       "      <td>...</td>\n",
       "      <td>...</td>\n",
       "      <td>...</td>\n",
       "      <td>...</td>\n",
       "      <td>...</td>\n",
       "      <td>...</td>\n",
       "      <td>...</td>\n",
       "      <td>...</td>\n",
       "    </tr>\n",
       "    <tr>\n",
       "      <th>4387</th>\n",
       "      <td>8171451</td>\n",
       "      <td>7603869.0</td>\n",
       "      <td>2016-12-07</td>\n",
       "      <td>2021-06-25</td>\n",
       "      <td>DHS</td>\n",
       "      <td>RMV</td>\n",
       "      <td>R</td>\n",
       "      <td>NaN</td>\n",
       "      <td>LOS ANGELES, CALIFORNIA</td>\n",
       "      <td>NaN</td>\n",
       "      <td>NaT</td>\n",
       "    </tr>\n",
       "    <tr>\n",
       "      <th>4388</th>\n",
       "      <td>8171477</td>\n",
       "      <td>7603929.0</td>\n",
       "      <td>2016-12-07</td>\n",
       "      <td>2021-06-25</td>\n",
       "      <td>DHS</td>\n",
       "      <td>RMV</td>\n",
       "      <td>R</td>\n",
       "      <td>NaN</td>\n",
       "      <td>LOS ANGELES, CALIFORNIA</td>\n",
       "      <td>NaN</td>\n",
       "      <td>NaT</td>\n",
       "    </tr>\n",
       "    <tr>\n",
       "      <th>4389</th>\n",
       "      <td>8559014</td>\n",
       "      <td>8189786.0</td>\n",
       "      <td>2018-07-03</td>\n",
       "      <td>2021-06-29</td>\n",
       "      <td>Alien</td>\n",
       "      <td>RMV</td>\n",
       "      <td>N</td>\n",
       "      <td>M</td>\n",
       "      <td>VAN NUYS, CALIFORNIA</td>\n",
       "      <td>NaN</td>\n",
       "      <td>NaT</td>\n",
       "    </tr>\n",
       "    <tr>\n",
       "      <th>4390</th>\n",
       "      <td>NaN</td>\n",
       "      <td>NaN</td>\n",
       "      <td>NaT</td>\n",
       "      <td>NaT</td>\n",
       "      <td>NaN</td>\n",
       "      <td>NaN</td>\n",
       "      <td>NaN</td>\n",
       "      <td>NaN</td>\n",
       "      <td>NaN</td>\n",
       "      <td>NaN</td>\n",
       "      <td>NaT</td>\n",
       "    </tr>\n",
       "    <tr>\n",
       "      <th>4391</th>\n",
       "      <td>*If the BIA Decision is blank then the case is...</td>\n",
       "      <td>NaN</td>\n",
       "      <td>NaT</td>\n",
       "      <td>NaT</td>\n",
       "      <td>NaN</td>\n",
       "      <td>NaN</td>\n",
       "      <td>NaN</td>\n",
       "      <td>NaN</td>\n",
       "      <td>NaN</td>\n",
       "      <td>NaN</td>\n",
       "      <td>NaT</td>\n",
       "    </tr>\n",
       "  </tbody>\n",
       "</table>\n",
       "<p>4392 rows × 11 columns</p>\n",
       "</div>"
      ],
      "text/plain": [
       "                                                idncase  idnProceeding  \\\n",
       "0                                               6817752      5685760.0   \n",
       "1                                               6807379      6078121.0   \n",
       "2                                               7473465      6891486.0   \n",
       "3                                               7642251      6819325.0   \n",
       "4                                               7721331      6937166.0   \n",
       "...                                                 ...            ...   \n",
       "4387                                            8171451      7603869.0   \n",
       "4388                                            8171477      7603929.0   \n",
       "4389                                            8559014      8189786.0   \n",
       "4390                                                NaN            NaN   \n",
       "4391  *If the BIA Decision is blank then the case is...            NaN   \n",
       "\n",
       "       NTA Date Date Appeal Filed Appeal Filed By Case Type Custody Gender  \\\n",
       "0    2011-08-02        2015-10-05           Alien       RMV       R      M   \n",
       "1    2011-06-08        2015-10-06           Alien       RMV       R      M   \n",
       "2    2014-04-16        2015-10-08             DHS       RMV       D      M   \n",
       "3    2015-03-03        2015-10-08             DHS       RMV       D      M   \n",
       "4    2015-07-15        2015-10-09             DHS       WHO       D      M   \n",
       "...         ...               ...             ...       ...     ...    ...   \n",
       "4387 2016-12-07        2021-06-25             DHS       RMV       R    NaN   \n",
       "4388 2016-12-07        2021-06-25             DHS       RMV       R    NaN   \n",
       "4389 2018-07-03        2021-06-29           Alien       RMV       N      M   \n",
       "4390        NaT               NaT             NaN       NaN     NaN    NaN   \n",
       "4391        NaT               NaT             NaN       NaN     NaN    NaN   \n",
       "\n",
       "                                              Base City  \\\n",
       "0                                 KANSAS CITY, MISSOURI   \n",
       "1                                   ARLINGTON, VIRGINIA   \n",
       "2     LOS ANGELES, CALIFORNIA (NORTH LOS ANGELES STR...   \n",
       "3                                 KANSAS CITY, MISSOURI   \n",
       "4                  LOS FRESNOS (PORT ISABEL SPC), TEXAS   \n",
       "...                                                 ...   \n",
       "4387                            LOS ANGELES, CALIFORNIA   \n",
       "4388                            LOS ANGELES, CALIFORNIA   \n",
       "4389                               VAN NUYS, CALIFORNIA   \n",
       "4390                                                NaN   \n",
       "4391                                                NaN   \n",
       "\n",
       "                            BIA Decision* BIA Decision Date  \n",
       "0                 Background Check Remand        2016-06-15  \n",
       "1     Dismiss Appeal/Affirm IJ's Decision        2016-11-23  \n",
       "2                                  Remand        2016-10-25  \n",
       "3                                 Sustain        2017-01-27  \n",
       "4                                  Remand        2017-02-06  \n",
       "...                                   ...               ...  \n",
       "4387                                  NaN               NaT  \n",
       "4388                                  NaN               NaT  \n",
       "4389                                  NaN               NaT  \n",
       "4390                                  NaN               NaT  \n",
       "4391                                  NaN               NaT  \n",
       "\n",
       "[4392 rows x 11 columns]"
      ]
     },
     "execution_count": 25,
     "metadata": {},
     "output_type": "execute_result"
    }
   ],
   "source": [
    "df"
   ]
  },
  {
   "cell_type": "code",
   "execution_count": 26,
   "metadata": {},
   "outputs": [
    {
     "data": {
      "text/plain": [
       "0       False\n",
       "1       False\n",
       "2       False\n",
       "3       False\n",
       "4       False\n",
       "        ...  \n",
       "4387    False\n",
       "4388    False\n",
       "4389    False\n",
       "4390    False\n",
       "4391    False\n",
       "Length: 4392, dtype: bool"
      ]
     },
     "execution_count": 26,
     "metadata": {},
     "output_type": "execute_result"
    }
   ],
   "source": [
    "df.duplicated()"
   ]
  },
  {
   "cell_type": "code",
   "execution_count": 27,
   "metadata": {},
   "outputs": [
    {
     "data": {
      "text/html": [
       "<div>\n",
       "<style scoped>\n",
       "    .dataframe tbody tr th:only-of-type {\n",
       "        vertical-align: middle;\n",
       "    }\n",
       "\n",
       "    .dataframe tbody tr th {\n",
       "        vertical-align: top;\n",
       "    }\n",
       "\n",
       "    .dataframe thead th {\n",
       "        text-align: right;\n",
       "    }\n",
       "</style>\n",
       "<table border=\"1\" class=\"dataframe\">\n",
       "  <thead>\n",
       "    <tr style=\"text-align: right;\">\n",
       "      <th></th>\n",
       "      <th>idncase</th>\n",
       "      <th>idnProceeding</th>\n",
       "      <th>NTA Date</th>\n",
       "      <th>Date Appeal Filed</th>\n",
       "      <th>Appeal Filed By</th>\n",
       "      <th>Case Type</th>\n",
       "      <th>Custody</th>\n",
       "      <th>Gender</th>\n",
       "      <th>Base City</th>\n",
       "      <th>BIA Decision*</th>\n",
       "      <th>BIA Decision Date</th>\n",
       "    </tr>\n",
       "  </thead>\n",
       "  <tbody>\n",
       "    <tr>\n",
       "      <th>0</th>\n",
       "      <td>6817752</td>\n",
       "      <td>5685760.0</td>\n",
       "      <td>2011-08-02</td>\n",
       "      <td>2015-10-05</td>\n",
       "      <td>Alien</td>\n",
       "      <td>RMV</td>\n",
       "      <td>R</td>\n",
       "      <td>M</td>\n",
       "      <td>KANSAS CITY, MISSOURI</td>\n",
       "      <td>Background Check Remand</td>\n",
       "      <td>2016-06-15</td>\n",
       "    </tr>\n",
       "    <tr>\n",
       "      <th>1</th>\n",
       "      <td>6807379</td>\n",
       "      <td>6078121.0</td>\n",
       "      <td>2011-06-08</td>\n",
       "      <td>2015-10-06</td>\n",
       "      <td>Alien</td>\n",
       "      <td>RMV</td>\n",
       "      <td>R</td>\n",
       "      <td>M</td>\n",
       "      <td>ARLINGTON, VIRGINIA</td>\n",
       "      <td>Dismiss Appeal/Affirm IJ's Decision</td>\n",
       "      <td>2016-11-23</td>\n",
       "    </tr>\n",
       "    <tr>\n",
       "      <th>2</th>\n",
       "      <td>7473465</td>\n",
       "      <td>6891486.0</td>\n",
       "      <td>2014-04-16</td>\n",
       "      <td>2015-10-08</td>\n",
       "      <td>DHS</td>\n",
       "      <td>RMV</td>\n",
       "      <td>D</td>\n",
       "      <td>M</td>\n",
       "      <td>LOS ANGELES, CALIFORNIA (NORTH LOS ANGELES STR...</td>\n",
       "      <td>Remand</td>\n",
       "      <td>2016-10-25</td>\n",
       "    </tr>\n",
       "    <tr>\n",
       "      <th>3</th>\n",
       "      <td>7642251</td>\n",
       "      <td>6819325.0</td>\n",
       "      <td>2015-03-03</td>\n",
       "      <td>2015-10-08</td>\n",
       "      <td>DHS</td>\n",
       "      <td>RMV</td>\n",
       "      <td>D</td>\n",
       "      <td>M</td>\n",
       "      <td>KANSAS CITY, MISSOURI</td>\n",
       "      <td>Sustain</td>\n",
       "      <td>2017-01-27</td>\n",
       "    </tr>\n",
       "    <tr>\n",
       "      <th>4</th>\n",
       "      <td>7721331</td>\n",
       "      <td>6937166.0</td>\n",
       "      <td>2015-07-15</td>\n",
       "      <td>2015-10-09</td>\n",
       "      <td>DHS</td>\n",
       "      <td>WHO</td>\n",
       "      <td>D</td>\n",
       "      <td>M</td>\n",
       "      <td>LOS FRESNOS (PORT ISABEL SPC), TEXAS</td>\n",
       "      <td>Remand</td>\n",
       "      <td>2017-02-06</td>\n",
       "    </tr>\n",
       "    <tr>\n",
       "      <th>...</th>\n",
       "      <td>...</td>\n",
       "      <td>...</td>\n",
       "      <td>...</td>\n",
       "      <td>...</td>\n",
       "      <td>...</td>\n",
       "      <td>...</td>\n",
       "      <td>...</td>\n",
       "      <td>...</td>\n",
       "      <td>...</td>\n",
       "      <td>...</td>\n",
       "      <td>...</td>\n",
       "    </tr>\n",
       "    <tr>\n",
       "      <th>4387</th>\n",
       "      <td>8171451</td>\n",
       "      <td>7603869.0</td>\n",
       "      <td>2016-12-07</td>\n",
       "      <td>2021-06-25</td>\n",
       "      <td>DHS</td>\n",
       "      <td>RMV</td>\n",
       "      <td>R</td>\n",
       "      <td>NaN</td>\n",
       "      <td>LOS ANGELES, CALIFORNIA</td>\n",
       "      <td>NaN</td>\n",
       "      <td>NaT</td>\n",
       "    </tr>\n",
       "    <tr>\n",
       "      <th>4388</th>\n",
       "      <td>8171477</td>\n",
       "      <td>7603929.0</td>\n",
       "      <td>2016-12-07</td>\n",
       "      <td>2021-06-25</td>\n",
       "      <td>DHS</td>\n",
       "      <td>RMV</td>\n",
       "      <td>R</td>\n",
       "      <td>NaN</td>\n",
       "      <td>LOS ANGELES, CALIFORNIA</td>\n",
       "      <td>NaN</td>\n",
       "      <td>NaT</td>\n",
       "    </tr>\n",
       "    <tr>\n",
       "      <th>4389</th>\n",
       "      <td>8559014</td>\n",
       "      <td>8189786.0</td>\n",
       "      <td>2018-07-03</td>\n",
       "      <td>2021-06-29</td>\n",
       "      <td>Alien</td>\n",
       "      <td>RMV</td>\n",
       "      <td>N</td>\n",
       "      <td>M</td>\n",
       "      <td>VAN NUYS, CALIFORNIA</td>\n",
       "      <td>NaN</td>\n",
       "      <td>NaT</td>\n",
       "    </tr>\n",
       "    <tr>\n",
       "      <th>4390</th>\n",
       "      <td>NaN</td>\n",
       "      <td>NaN</td>\n",
       "      <td>NaT</td>\n",
       "      <td>NaT</td>\n",
       "      <td>NaN</td>\n",
       "      <td>NaN</td>\n",
       "      <td>NaN</td>\n",
       "      <td>NaN</td>\n",
       "      <td>NaN</td>\n",
       "      <td>NaN</td>\n",
       "      <td>NaT</td>\n",
       "    </tr>\n",
       "    <tr>\n",
       "      <th>4391</th>\n",
       "      <td>*If the BIA Decision is blank then the case is...</td>\n",
       "      <td>NaN</td>\n",
       "      <td>NaT</td>\n",
       "      <td>NaT</td>\n",
       "      <td>NaN</td>\n",
       "      <td>NaN</td>\n",
       "      <td>NaN</td>\n",
       "      <td>NaN</td>\n",
       "      <td>NaN</td>\n",
       "      <td>NaN</td>\n",
       "      <td>NaT</td>\n",
       "    </tr>\n",
       "  </tbody>\n",
       "</table>\n",
       "<p>4392 rows × 11 columns</p>\n",
       "</div>"
      ],
      "text/plain": [
       "                                                idncase  idnProceeding  \\\n",
       "0                                               6817752      5685760.0   \n",
       "1                                               6807379      6078121.0   \n",
       "2                                               7473465      6891486.0   \n",
       "3                                               7642251      6819325.0   \n",
       "4                                               7721331      6937166.0   \n",
       "...                                                 ...            ...   \n",
       "4387                                            8171451      7603869.0   \n",
       "4388                                            8171477      7603929.0   \n",
       "4389                                            8559014      8189786.0   \n",
       "4390                                                NaN            NaN   \n",
       "4391  *If the BIA Decision is blank then the case is...            NaN   \n",
       "\n",
       "       NTA Date Date Appeal Filed Appeal Filed By Case Type Custody Gender  \\\n",
       "0    2011-08-02        2015-10-05           Alien       RMV       R      M   \n",
       "1    2011-06-08        2015-10-06           Alien       RMV       R      M   \n",
       "2    2014-04-16        2015-10-08             DHS       RMV       D      M   \n",
       "3    2015-03-03        2015-10-08             DHS       RMV       D      M   \n",
       "4    2015-07-15        2015-10-09             DHS       WHO       D      M   \n",
       "...         ...               ...             ...       ...     ...    ...   \n",
       "4387 2016-12-07        2021-06-25             DHS       RMV       R    NaN   \n",
       "4388 2016-12-07        2021-06-25             DHS       RMV       R    NaN   \n",
       "4389 2018-07-03        2021-06-29           Alien       RMV       N      M   \n",
       "4390        NaT               NaT             NaN       NaN     NaN    NaN   \n",
       "4391        NaT               NaT             NaN       NaN     NaN    NaN   \n",
       "\n",
       "                                              Base City  \\\n",
       "0                                 KANSAS CITY, MISSOURI   \n",
       "1                                   ARLINGTON, VIRGINIA   \n",
       "2     LOS ANGELES, CALIFORNIA (NORTH LOS ANGELES STR...   \n",
       "3                                 KANSAS CITY, MISSOURI   \n",
       "4                  LOS FRESNOS (PORT ISABEL SPC), TEXAS   \n",
       "...                                                 ...   \n",
       "4387                            LOS ANGELES, CALIFORNIA   \n",
       "4388                            LOS ANGELES, CALIFORNIA   \n",
       "4389                               VAN NUYS, CALIFORNIA   \n",
       "4390                                                NaN   \n",
       "4391                                                NaN   \n",
       "\n",
       "                            BIA Decision* BIA Decision Date  \n",
       "0                 Background Check Remand        2016-06-15  \n",
       "1     Dismiss Appeal/Affirm IJ's Decision        2016-11-23  \n",
       "2                                  Remand        2016-10-25  \n",
       "3                                 Sustain        2017-01-27  \n",
       "4                                  Remand        2017-02-06  \n",
       "...                                   ...               ...  \n",
       "4387                                  NaN               NaT  \n",
       "4388                                  NaN               NaT  \n",
       "4389                                  NaN               NaT  \n",
       "4390                                  NaN               NaT  \n",
       "4391                                  NaN               NaT  \n",
       "\n",
       "[4392 rows x 11 columns]"
      ]
     },
     "execution_count": 27,
     "metadata": {},
     "output_type": "execute_result"
    }
   ],
   "source": [
    "df.drop_duplicates()"
   ]
  },
  {
   "cell_type": "code",
   "execution_count": 28,
   "metadata": {},
   "outputs": [
    {
     "data": {
      "text/plain": [
       "idncase                      object\n",
       "idnProceeding               float64\n",
       "NTA Date             datetime64[ns]\n",
       "Date Appeal Filed    datetime64[ns]\n",
       "Appeal Filed By              object\n",
       "Case Type                    object\n",
       "Custody                      object\n",
       "Gender                       object\n",
       "Base City                    object\n",
       "BIA Decision*                object\n",
       "BIA Decision Date    datetime64[ns]\n",
       "dtype: object"
      ]
     },
     "execution_count": 28,
     "metadata": {},
     "output_type": "execute_result"
    }
   ],
   "source": [
    "df.dtypes"
   ]
  },
  {
   "cell_type": "code",
   "execution_count": 30,
   "metadata": {},
   "outputs": [],
   "source": [
    "duplicateRowsDF = df[df.duplicated()]"
   ]
  },
  {
   "cell_type": "code",
   "execution_count": 31,
   "metadata": {},
   "outputs": [
    {
     "data": {
      "text/html": [
       "<div>\n",
       "<style scoped>\n",
       "    .dataframe tbody tr th:only-of-type {\n",
       "        vertical-align: middle;\n",
       "    }\n",
       "\n",
       "    .dataframe tbody tr th {\n",
       "        vertical-align: top;\n",
       "    }\n",
       "\n",
       "    .dataframe thead th {\n",
       "        text-align: right;\n",
       "    }\n",
       "</style>\n",
       "<table border=\"1\" class=\"dataframe\">\n",
       "  <thead>\n",
       "    <tr style=\"text-align: right;\">\n",
       "      <th></th>\n",
       "      <th>idncase</th>\n",
       "      <th>idnProceeding</th>\n",
       "      <th>NTA Date</th>\n",
       "      <th>Date Appeal Filed</th>\n",
       "      <th>Appeal Filed By</th>\n",
       "      <th>Case Type</th>\n",
       "      <th>Custody</th>\n",
       "      <th>Gender</th>\n",
       "      <th>Base City</th>\n",
       "      <th>BIA Decision*</th>\n",
       "      <th>BIA Decision Date</th>\n",
       "    </tr>\n",
       "  </thead>\n",
       "  <tbody>\n",
       "  </tbody>\n",
       "</table>\n",
       "</div>"
      ],
      "text/plain": [
       "Empty DataFrame\n",
       "Columns: [idncase, idnProceeding, NTA Date, Date Appeal Filed, Appeal Filed By, Case Type, Custody, Gender, Base City, BIA Decision*, BIA Decision Date]\n",
       "Index: []"
      ]
     },
     "execution_count": 31,
     "metadata": {},
     "output_type": "execute_result"
    }
   ],
   "source": [
    "duplicateRowsDF"
   ]
  },
  {
   "cell_type": "code",
   "execution_count": 32,
   "metadata": {},
   "outputs": [
    {
     "name": "stdout",
     "output_type": "stream",
     "text": [
      "idncase              4252\n",
      "idnProceeding        4390\n",
      "NTA Date             1994\n",
      "Date Appeal Filed    1171\n",
      "Appeal Filed By         4\n",
      "Case Type               4\n",
      "Custody                 3\n",
      "Gender                  2\n",
      "Base City              65\n",
      "BIA Decision*          15\n",
      "BIA Decision Date     988\n",
      "dtype: int64\n"
     ]
    }
   ],
   "source": [
    "print(df.nunique())"
   ]
  },
  {
   "cell_type": "code",
   "execution_count": 34,
   "metadata": {},
   "outputs": [
    {
     "name": "stdout",
     "output_type": "stream",
     "text": [
      "7973945                                                                       3\n",
      "7344840                                                                       3\n",
      "8051951                                                                       3\n",
      "8113843                                                                       3\n",
      "8188409                                                                       3\n",
      "                                                                             ..\n",
      "7451742                                                                       1\n",
      "7845220                                                                       1\n",
      "7845224                                                                       1\n",
      "8525232                                                                       1\n",
      "*If the BIA Decision is blank then the case is still pending with the BIA.    1\n",
      "Name: idncase, Length: 4252, dtype: int64\n"
     ]
    }
   ],
   "source": [
    "print(df['idncase'].value_counts())"
   ]
  },
  {
   "cell_type": "code",
   "execution_count": 35,
   "metadata": {},
   "outputs": [],
   "source": [
    "appeal_subset = df[df['Appeal Filed By'] == 'DHS']"
   ]
  },
  {
   "cell_type": "code",
   "execution_count": 37,
   "metadata": {},
   "outputs": [
    {
     "data": {
      "text/plain": [
       "2825"
      ]
     },
     "execution_count": 37,
     "metadata": {},
     "output_type": "execute_result"
    }
   ],
   "source": [
    "appeal_subset.shape[0]"
   ]
  },
  {
   "cell_type": "code",
   "execution_count": 38,
   "metadata": {},
   "outputs": [],
   "source": [
    "detained_appeal = appeal_subset[appeal_subset['Custody'] == 'D']"
   ]
  },
  {
   "cell_type": "code",
   "execution_count": 39,
   "metadata": {},
   "outputs": [
    {
     "data": {
      "text/plain": [
       "1015"
      ]
     },
     "execution_count": 39,
     "metadata": {},
     "output_type": "execute_result"
    }
   ],
   "source": [
    "detained_appeal.shape[0]"
   ]
  },
  {
   "cell_type": "code",
   "execution_count": 40,
   "metadata": {},
   "outputs": [
    {
     "name": "stdout",
     "output_type": "stream",
     "text": [
      "idncase               946\n",
      "idnProceeding        1015\n",
      "NTA Date              725\n",
      "Date Appeal Filed     666\n",
      "Appeal Filed By         1\n",
      "Case Type               4\n",
      "Custody                 1\n",
      "Gender                  2\n",
      "Base City              46\n",
      "BIA Decision*          13\n",
      "BIA Decision Date     597\n",
      "dtype: int64\n"
     ]
    }
   ],
   "source": [
    "print(detained_appeal.nunique())"
   ]
  },
  {
   "cell_type": "code",
   "execution_count": 41,
   "metadata": {},
   "outputs": [
    {
     "name": "stdout",
     "output_type": "stream",
     "text": [
      "idncase              2735\n",
      "idnProceeding        2825\n",
      "NTA Date             1454\n",
      "Date Appeal Filed     960\n",
      "Appeal Filed By         1\n",
      "Case Type               4\n",
      "Custody                 3\n",
      "Gender                  2\n",
      "Base City              64\n",
      "BIA Decision*          15\n",
      "BIA Decision Date     773\n",
      "dtype: int64\n"
     ]
    }
   ],
   "source": [
    "print(appeal_subset.nunique())"
   ]
  },
  {
   "cell_type": "code",
   "execution_count": null,
   "metadata": {},
   "outputs": [],
   "source": []
  }
 ],
 "metadata": {
  "kernelspec": {
   "display_name": "Python 3",
   "language": "python",
   "name": "python3"
  },
  "language_info": {
   "codemirror_mode": {
    "name": "ipython",
    "version": 3
   },
   "file_extension": ".py",
   "mimetype": "text/x-python",
   "name": "python",
   "nbconvert_exporter": "python",
   "pygments_lexer": "ipython3",
   "version": "3.7.6"
  }
 },
 "nbformat": 4,
 "nbformat_minor": 4
}
